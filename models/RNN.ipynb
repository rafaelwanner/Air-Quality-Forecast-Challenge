{
 "cells": [
  {
   "cell_type": "code",
   "execution_count": 1,
   "metadata": {},
   "outputs": [],
   "source": [
    "import tensorflow as tf\n",
    "import numpy as np\n",
    "import pandas as pd\n",
    "import matplotlib.pyplot as plt\n",
    "from sklearn.metrics import mean_squared_error, mean_absolute_error\n",
    "from sklearn.model_selection import train_test_split\n",
    "from sklearn.preprocessing import StandardScaler"
   ]
  },
  {
   "cell_type": "code",
   "execution_count": 2,
   "metadata": {},
   "outputs": [],
   "source": [
    "from tensorflow.keras.layers import Input, Dense, Activation,Dropout\n",
    "from tensorflow.keras.models import Model\n",
    "from tensorflow.keras import preprocessing"
   ]
  },
  {
   "cell_type": "code",
   "execution_count": 3,
   "metadata": {},
   "outputs": [],
   "source": [
    "# Data preparation\n",
    "df = pd.read_csv('model_data_pi.csv')\n",
    "df.dropna(inplace=True)\n",
    "df.reset_index(drop=True, inplace=True)\n",
    "df = df.loc[:, ~df.columns.str.contains('^Unnamed')]\n",
    "df = df.iloc[:138,:]"
   ]
  },
  {
   "cell_type": "code",
   "execution_count": 4,
   "metadata": {},
   "outputs": [],
   "source": [
    "labels = ['PM2.5_pi', 'PM10_pi']"
   ]
  },
  {
   "cell_type": "code",
   "execution_count": 5,
   "metadata": {},
   "outputs": [],
   "source": [
    "header = df.columns"
   ]
  },
  {
   "cell_type": "code",
   "execution_count": 6,
   "metadata": {},
   "outputs": [],
   "source": [
    "TRAIN_TEST_SPLIT = 0.8\n",
    "n = int(TRAIN_TEST_SPLIT*df.shape[0])"
   ]
  },
  {
   "cell_type": "code",
   "execution_count": 7,
   "metadata": {},
   "outputs": [],
   "source": [
    "X_train = df.iloc[:n,:]\n",
    "X_test = df.iloc[n:,:]\n",
    "\n",
    "y_train1 = X_train[labels[0]]\n",
    "y_train2 = X_train[labels[1]]\n",
    "\n",
    "y_true1 = X_test[labels[0]]\n",
    "y_true2 = X_test[labels[1]]\n",
    "\n",
    "X_train = X_train.drop(labels, axis=1)\n",
    "X_test = X_test.drop(labels, axis=1)"
   ]
  },
  {
   "cell_type": "code",
   "execution_count": 8,
   "metadata": {},
   "outputs": [
    {
     "data": {
      "text/html": [
       "<div>\n",
       "<style scoped>\n",
       "    .dataframe tbody tr th:only-of-type {\n",
       "        vertical-align: middle;\n",
       "    }\n",
       "\n",
       "    .dataframe tbody tr th {\n",
       "        vertical-align: top;\n",
       "    }\n",
       "\n",
       "    .dataframe thead th {\n",
       "        text-align: right;\n",
       "    }\n",
       "</style>\n",
       "<table border=\"1\" class=\"dataframe\">\n",
       "  <thead>\n",
       "    <tr style=\"text-align: right;\">\n",
       "      <th></th>\n",
       "      <th>temp_pi_t0</th>\n",
       "      <th>hum_pi_t0</th>\n",
       "      <th>PM1_pi_t0</th>\n",
       "      <th>PM2.5_pi_t0</th>\n",
       "      <th>PM10_pi_t0</th>\n",
       "      <th>wind_speed_t0</th>\n",
       "      <th>temp_pi_t1</th>\n",
       "      <th>hum_pi_t1</th>\n",
       "      <th>PM1_pi_t1</th>\n",
       "      <th>PM2.5_pi_t1</th>\n",
       "      <th>...</th>\n",
       "      <th>PM1_pi_t4</th>\n",
       "      <th>PM2.5_pi_t4</th>\n",
       "      <th>PM10_pi_t4</th>\n",
       "      <th>wind_speed_t4</th>\n",
       "      <th>temp_pi_t5</th>\n",
       "      <th>hum_pi_t5</th>\n",
       "      <th>PM1_pi_t5</th>\n",
       "      <th>PM2.5_pi_t5</th>\n",
       "      <th>PM10_pi_t5</th>\n",
       "      <th>wind_speed_t5</th>\n",
       "    </tr>\n",
       "  </thead>\n",
       "  <tbody>\n",
       "    <tr>\n",
       "      <th>0</th>\n",
       "      <td>17.625000</td>\n",
       "      <td>30.933333</td>\n",
       "      <td>4.365000</td>\n",
       "      <td>9.652500</td>\n",
       "      <td>15.223333</td>\n",
       "      <td>9.826088</td>\n",
       "      <td>19.983333</td>\n",
       "      <td>28.125000</td>\n",
       "      <td>4.610000</td>\n",
       "      <td>10.042500</td>\n",
       "      <td>...</td>\n",
       "      <td>4.840833</td>\n",
       "      <td>10.010000</td>\n",
       "      <td>15.388333</td>\n",
       "      <td>6.924738</td>\n",
       "      <td>8.316667</td>\n",
       "      <td>53.283333</td>\n",
       "      <td>6.042500</td>\n",
       "      <td>11.798333</td>\n",
       "      <td>17.710000</td>\n",
       "      <td>5.116561</td>\n",
       "    </tr>\n",
       "    <tr>\n",
       "      <th>1</th>\n",
       "      <td>13.990000</td>\n",
       "      <td>35.770000</td>\n",
       "      <td>3.787000</td>\n",
       "      <td>6.641000</td>\n",
       "      <td>9.477000</td>\n",
       "      <td>8.209263</td>\n",
       "      <td>17.625000</td>\n",
       "      <td>30.933333</td>\n",
       "      <td>4.365000</td>\n",
       "      <td>9.652500</td>\n",
       "      <td>...</td>\n",
       "      <td>5.140833</td>\n",
       "      <td>7.510833</td>\n",
       "      <td>9.632500</td>\n",
       "      <td>7.421590</td>\n",
       "      <td>13.408333</td>\n",
       "      <td>38.358333</td>\n",
       "      <td>4.840833</td>\n",
       "      <td>10.010000</td>\n",
       "      <td>15.388333</td>\n",
       "      <td>6.924738</td>\n",
       "    </tr>\n",
       "    <tr>\n",
       "      <th>2</th>\n",
       "      <td>12.683333</td>\n",
       "      <td>37.733333</td>\n",
       "      <td>4.529167</td>\n",
       "      <td>10.465000</td>\n",
       "      <td>16.762500</td>\n",
       "      <td>8.496304</td>\n",
       "      <td>13.990000</td>\n",
       "      <td>35.770000</td>\n",
       "      <td>3.787000</td>\n",
       "      <td>6.641000</td>\n",
       "      <td>...</td>\n",
       "      <td>3.752500</td>\n",
       "      <td>6.064167</td>\n",
       "      <td>8.284167</td>\n",
       "      <td>6.952755</td>\n",
       "      <td>17.391667</td>\n",
       "      <td>32.191667</td>\n",
       "      <td>5.140833</td>\n",
       "      <td>7.510833</td>\n",
       "      <td>9.632500</td>\n",
       "      <td>7.421590</td>\n",
       "    </tr>\n",
       "    <tr>\n",
       "      <th>3</th>\n",
       "      <td>11.616667</td>\n",
       "      <td>40.350000</td>\n",
       "      <td>2.710000</td>\n",
       "      <td>6.040000</td>\n",
       "      <td>9.553333</td>\n",
       "      <td>7.754637</td>\n",
       "      <td>12.683333</td>\n",
       "      <td>37.733333</td>\n",
       "      <td>4.529167</td>\n",
       "      <td>10.465000</td>\n",
       "      <td>...</td>\n",
       "      <td>4.610000</td>\n",
       "      <td>10.042500</td>\n",
       "      <td>15.750000</td>\n",
       "      <td>11.269782</td>\n",
       "      <td>18.650000</td>\n",
       "      <td>30.083333</td>\n",
       "      <td>3.752500</td>\n",
       "      <td>6.064167</td>\n",
       "      <td>8.284167</td>\n",
       "      <td>6.952755</td>\n",
       "    </tr>\n",
       "    <tr>\n",
       "      <th>4</th>\n",
       "      <td>10.425000</td>\n",
       "      <td>42.900000</td>\n",
       "      <td>3.815000</td>\n",
       "      <td>7.147500</td>\n",
       "      <td>10.535000</td>\n",
       "      <td>6.162207</td>\n",
       "      <td>11.616667</td>\n",
       "      <td>40.350000</td>\n",
       "      <td>2.710000</td>\n",
       "      <td>6.040000</td>\n",
       "      <td>...</td>\n",
       "      <td>4.365000</td>\n",
       "      <td>9.652500</td>\n",
       "      <td>15.223333</td>\n",
       "      <td>9.826088</td>\n",
       "      <td>19.983333</td>\n",
       "      <td>28.125000</td>\n",
       "      <td>4.610000</td>\n",
       "      <td>10.042500</td>\n",
       "      <td>15.750000</td>\n",
       "      <td>11.269782</td>\n",
       "    </tr>\n",
       "    <tr>\n",
       "      <th>...</th>\n",
       "      <td>...</td>\n",
       "      <td>...</td>\n",
       "      <td>...</td>\n",
       "      <td>...</td>\n",
       "      <td>...</td>\n",
       "      <td>...</td>\n",
       "      <td>...</td>\n",
       "      <td>...</td>\n",
       "      <td>...</td>\n",
       "      <td>...</td>\n",
       "      <td>...</td>\n",
       "      <td>...</td>\n",
       "      <td>...</td>\n",
       "      <td>...</td>\n",
       "      <td>...</td>\n",
       "      <td>...</td>\n",
       "      <td>...</td>\n",
       "      <td>...</td>\n",
       "      <td>...</td>\n",
       "      <td>...</td>\n",
       "      <td>...</td>\n",
       "    </tr>\n",
       "    <tr>\n",
       "      <th>105</th>\n",
       "      <td>8.600000</td>\n",
       "      <td>58.325000</td>\n",
       "      <td>4.621667</td>\n",
       "      <td>10.125000</td>\n",
       "      <td>15.913333</td>\n",
       "      <td>6.034700</td>\n",
       "      <td>9.316667</td>\n",
       "      <td>54.241667</td>\n",
       "      <td>4.965833</td>\n",
       "      <td>10.541667</td>\n",
       "      <td>...</td>\n",
       "      <td>2.917500</td>\n",
       "      <td>5.516667</td>\n",
       "      <td>8.162500</td>\n",
       "      <td>9.565437</td>\n",
       "      <td>11.318182</td>\n",
       "      <td>42.245455</td>\n",
       "      <td>3.316364</td>\n",
       "      <td>6.218182</td>\n",
       "      <td>9.170000</td>\n",
       "      <td>17.227420</td>\n",
       "    </tr>\n",
       "    <tr>\n",
       "      <th>106</th>\n",
       "      <td>8.000000</td>\n",
       "      <td>62.700000</td>\n",
       "      <td>2.994000</td>\n",
       "      <td>6.236000</td>\n",
       "      <td>9.613000</td>\n",
       "      <td>5.760000</td>\n",
       "      <td>8.600000</td>\n",
       "      <td>58.325000</td>\n",
       "      <td>4.621667</td>\n",
       "      <td>10.125000</td>\n",
       "      <td>...</td>\n",
       "      <td>2.699000</td>\n",
       "      <td>5.361000</td>\n",
       "      <td>8.107000</td>\n",
       "      <td>7.100310</td>\n",
       "      <td>10.550000</td>\n",
       "      <td>44.441667</td>\n",
       "      <td>2.917500</td>\n",
       "      <td>5.516667</td>\n",
       "      <td>8.162500</td>\n",
       "      <td>9.565437</td>\n",
       "    </tr>\n",
       "    <tr>\n",
       "      <th>107</th>\n",
       "      <td>7.430000</td>\n",
       "      <td>62.450000</td>\n",
       "      <td>2.192000</td>\n",
       "      <td>5.787000</td>\n",
       "      <td>9.666000</td>\n",
       "      <td>6.479999</td>\n",
       "      <td>8.000000</td>\n",
       "      <td>62.700000</td>\n",
       "      <td>2.994000</td>\n",
       "      <td>6.236000</td>\n",
       "      <td>...</td>\n",
       "      <td>5.574167</td>\n",
       "      <td>8.223333</td>\n",
       "      <td>10.615833</td>\n",
       "      <td>8.587338</td>\n",
       "      <td>10.110000</td>\n",
       "      <td>47.870000</td>\n",
       "      <td>2.699000</td>\n",
       "      <td>5.361000</td>\n",
       "      <td>8.107000</td>\n",
       "      <td>7.100310</td>\n",
       "    </tr>\n",
       "    <tr>\n",
       "      <th>108</th>\n",
       "      <td>7.430000</td>\n",
       "      <td>62.450000</td>\n",
       "      <td>2.192000</td>\n",
       "      <td>5.787000</td>\n",
       "      <td>9.666000</td>\n",
       "      <td>6.638072</td>\n",
       "      <td>7.430000</td>\n",
       "      <td>62.450000</td>\n",
       "      <td>2.192000</td>\n",
       "      <td>5.787000</td>\n",
       "      <td>...</td>\n",
       "      <td>4.965833</td>\n",
       "      <td>10.541667</td>\n",
       "      <td>16.376667</td>\n",
       "      <td>9.021574</td>\n",
       "      <td>9.883333</td>\n",
       "      <td>50.225000</td>\n",
       "      <td>5.574167</td>\n",
       "      <td>8.223333</td>\n",
       "      <td>10.615833</td>\n",
       "      <td>8.587338</td>\n",
       "    </tr>\n",
       "    <tr>\n",
       "      <th>109</th>\n",
       "      <td>6.881818</td>\n",
       "      <td>64.036364</td>\n",
       "      <td>3.126364</td>\n",
       "      <td>7.047273</td>\n",
       "      <td>11.187273</td>\n",
       "      <td>5.937272</td>\n",
       "      <td>7.430000</td>\n",
       "      <td>62.450000</td>\n",
       "      <td>2.192000</td>\n",
       "      <td>5.787000</td>\n",
       "      <td>...</td>\n",
       "      <td>4.621667</td>\n",
       "      <td>10.125000</td>\n",
       "      <td>15.913333</td>\n",
       "      <td>6.034700</td>\n",
       "      <td>9.316667</td>\n",
       "      <td>54.241667</td>\n",
       "      <td>4.965833</td>\n",
       "      <td>10.541667</td>\n",
       "      <td>16.376667</td>\n",
       "      <td>9.021574</td>\n",
       "    </tr>\n",
       "  </tbody>\n",
       "</table>\n",
       "<p>110 rows × 36 columns</p>\n",
       "</div>"
      ],
      "text/plain": [
       "     temp_pi_t0  hum_pi_t0  PM1_pi_t0  PM2.5_pi_t0  PM10_pi_t0  wind_speed_t0  \\\n",
       "0     17.625000  30.933333   4.365000     9.652500   15.223333       9.826088   \n",
       "1     13.990000  35.770000   3.787000     6.641000    9.477000       8.209263   \n",
       "2     12.683333  37.733333   4.529167    10.465000   16.762500       8.496304   \n",
       "3     11.616667  40.350000   2.710000     6.040000    9.553333       7.754637   \n",
       "4     10.425000  42.900000   3.815000     7.147500   10.535000       6.162207   \n",
       "..          ...        ...        ...          ...         ...            ...   \n",
       "105    8.600000  58.325000   4.621667    10.125000   15.913333       6.034700   \n",
       "106    8.000000  62.700000   2.994000     6.236000    9.613000       5.760000   \n",
       "107    7.430000  62.450000   2.192000     5.787000    9.666000       6.479999   \n",
       "108    7.430000  62.450000   2.192000     5.787000    9.666000       6.638072   \n",
       "109    6.881818  64.036364   3.126364     7.047273   11.187273       5.937272   \n",
       "\n",
       "     temp_pi_t1  hum_pi_t1  PM1_pi_t1  PM2.5_pi_t1  ...  PM1_pi_t4  \\\n",
       "0     19.983333  28.125000   4.610000    10.042500  ...   4.840833   \n",
       "1     17.625000  30.933333   4.365000     9.652500  ...   5.140833   \n",
       "2     13.990000  35.770000   3.787000     6.641000  ...   3.752500   \n",
       "3     12.683333  37.733333   4.529167    10.465000  ...   4.610000   \n",
       "4     11.616667  40.350000   2.710000     6.040000  ...   4.365000   \n",
       "..          ...        ...        ...          ...  ...        ...   \n",
       "105    9.316667  54.241667   4.965833    10.541667  ...   2.917500   \n",
       "106    8.600000  58.325000   4.621667    10.125000  ...   2.699000   \n",
       "107    8.000000  62.700000   2.994000     6.236000  ...   5.574167   \n",
       "108    7.430000  62.450000   2.192000     5.787000  ...   4.965833   \n",
       "109    7.430000  62.450000   2.192000     5.787000  ...   4.621667   \n",
       "\n",
       "     PM2.5_pi_t4  PM10_pi_t4  wind_speed_t4  temp_pi_t5  hum_pi_t5  PM1_pi_t5  \\\n",
       "0      10.010000   15.388333       6.924738    8.316667  53.283333   6.042500   \n",
       "1       7.510833    9.632500       7.421590   13.408333  38.358333   4.840833   \n",
       "2       6.064167    8.284167       6.952755   17.391667  32.191667   5.140833   \n",
       "3      10.042500   15.750000      11.269782   18.650000  30.083333   3.752500   \n",
       "4       9.652500   15.223333       9.826088   19.983333  28.125000   4.610000   \n",
       "..           ...         ...            ...         ...        ...        ...   \n",
       "105     5.516667    8.162500       9.565437   11.318182  42.245455   3.316364   \n",
       "106     5.361000    8.107000       7.100310   10.550000  44.441667   2.917500   \n",
       "107     8.223333   10.615833       8.587338   10.110000  47.870000   2.699000   \n",
       "108    10.541667   16.376667       9.021574    9.883333  50.225000   5.574167   \n",
       "109    10.125000   15.913333       6.034700    9.316667  54.241667   4.965833   \n",
       "\n",
       "     PM2.5_pi_t5  PM10_pi_t5  wind_speed_t5  \n",
       "0      11.798333   17.710000       5.116561  \n",
       "1      10.010000   15.388333       6.924738  \n",
       "2       7.510833    9.632500       7.421590  \n",
       "3       6.064167    8.284167       6.952755  \n",
       "4      10.042500   15.750000      11.269782  \n",
       "..           ...         ...            ...  \n",
       "105     6.218182    9.170000      17.227420  \n",
       "106     5.516667    8.162500       9.565437  \n",
       "107     5.361000    8.107000       7.100310  \n",
       "108     8.223333   10.615833       8.587338  \n",
       "109    10.541667   16.376667       9.021574  \n",
       "\n",
       "[110 rows x 36 columns]"
      ]
     },
     "execution_count": 8,
     "metadata": {},
     "output_type": "execute_result"
    }
   ],
   "source": [
    "X_train"
   ]
  },
  {
   "cell_type": "markdown",
   "metadata": {},
   "source": [
    "### PM 2.5"
   ]
  },
  {
   "cell_type": "code",
   "execution_count": 9,
   "metadata": {},
   "outputs": [],
   "source": [
    "input_layer = Input(shape=(X_train.shape[1],))\n",
    "rnn_layer = tf.keras.layers.SimpleRNN(128)\n",
    "dense_layer_1 = Dense(100, activation='relu')(input_layer)\n",
    "dense_layer_2 = Dense(50, activation='relu')(dense_layer_1)\n",
    "dense_layer_3 = Dense(25, activation='relu')(dense_layer_2)\n",
    "output = Dense(1)(dense_layer_3)\n",
    "\n",
    "rnn_model = Model(inputs=input_layer, outputs=output)\n",
    "rnn_model.compile(loss=\"mean_squared_error\" , optimizer=\"adam\", metrics=[\"mean_squared_error\"])"
   ]
  },
  {
   "cell_type": "code",
   "execution_count": 10,
   "metadata": {
    "tags": []
   },
   "outputs": [],
   "source": [
    "history = rnn_model.fit(X_train, y_train1, batch_size=1, epochs=100, verbose=0, validation_split=0)"
   ]
  },
  {
   "cell_type": "code",
   "execution_count": 11,
   "metadata": {},
   "outputs": [
    {
     "name": "stdout",
     "output_type": "stream",
     "text": [
      "MSE:  12.374114318412465\n",
      "MAE:  2.706939515927138\n"
     ]
    }
   ],
   "source": [
    "y_pred1 = rnn_model.predict(X_test)\n",
    "print(\"MSE: \", mean_squared_error(y_true1, y_pred1))\n",
    "print(\"MAE: \", mean_absolute_error(y_true1, y_pred1))"
   ]
  },
  {
   "cell_type": "code",
   "execution_count": 12,
   "metadata": {},
   "outputs": [
    {
     "data": {
      "image/png": "[encoded data removed]",
      "text/plain": [
       "<Figure size 432x288 with 1 Axes>"
      ]
     },
     "metadata": {
      "needs_background": "light"
     },
     "output_type": "display_data"
    }
   ],
   "source": [
    "plt.plot(np.arange(len(y_true1)), y_true1)\n",
    "plt.plot(np.arange(len(y_pred1)), y_pred1)\n",
    "plt.show()"
   ]
  },
  {
   "cell_type": "markdown",
   "metadata": {},
   "source": [
    "### PM 10"
   ]
  },
  {
   "cell_type": "code",
   "execution_count": 13,
   "metadata": {},
   "outputs": [],
   "source": [
    "input_layer = Input(shape=(X_train.shape[1],))\n",
    "rnn_layer = tf.keras.layers.SimpleRNN(128)\n",
    "dense_layer_1 = Dense(100, activation='relu')(input_layer)\n",
    "dense_layer_2 = Dense(50, activation='relu')(dense_layer_1)\n",
    "dense_layer_3 = Dense(25, activation='relu')(dense_layer_2)\n",
    "output = Dense(1)(dense_layer_3)\n",
    "\n",
    "model = Model(inputs=input_layer, outputs=output)\n",
    "model.compile(loss=\"mean_squared_error\" , optimizer=\"adam\", metrics=[\"mean_squared_error\"])"
   ]
  },
  {
   "cell_type": "code",
   "execution_count": 14,
   "metadata": {},
   "outputs": [],
   "source": [
    "history2 = rnn_model.fit(X_train, y_train2, batch_size=1, epochs=100, verbose=0, validation_split=0)"
   ]
  },
  {
   "cell_type": "code",
   "execution_count": 15,
   "metadata": {},
   "outputs": [
    {
     "name": "stdout",
     "output_type": "stream",
     "text": [
      "MSE:  60.44166015853185\n",
      "MAE:  5.650717910529903\n"
     ]
    }
   ],
   "source": [
    "y_pred2 = rnn_model.predict(X_test)\n",
    "print(\"MSE: \", mean_squared_error(y_true2, y_pred2))\n",
    "print(\"MAE: \", mean_absolute_error(y_true2, y_pred2))"
   ]
  },
  {
   "cell_type": "code",
   "execution_count": 16,
   "metadata": {},
   "outputs": [
    {
     "data": {
      "image/png": "[encoded data removed]",
      "text/plain": [
       "<Figure size 432x288 with 1 Axes>"
      ]
     },
     "metadata": {
      "needs_background": "light"
     },
     "output_type": "display_data"
    }
   ],
   "source": [
    "plt.plot(np.arange(len(y_true2)), y_true2)\n",
    "plt.plot(np.arange(len(y_pred2)), y_pred2)\n",
    "plt.show()"
   ]
  }
 ],
 "metadata": {
  "kernelspec": {
   "display_name": "Python 3",
   "language": "python",
   "name": "python3"
  },
  "language_info": {
   "codemirror_mode": {
    "name": "ipython",
    "version": 3
   },
   "file_extension": ".py",
   "mimetype": "text/x-python",
   "name": "python",
   "nbconvert_exporter": "python",
   "pygments_lexer": "ipython3",
   "version": "3.8.5"
  },
  "metadata": {
   "interpreter": {
    "hash": "9e5addec0265f82113593c0c0666c294dca5e27b55fafbc7e9d94077bbbb9802"
   }
  }
 },
 "nbformat": 4,
 "nbformat_minor": 2
}
