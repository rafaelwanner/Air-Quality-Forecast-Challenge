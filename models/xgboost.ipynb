{
 "cells": [
  {
   "cell_type": "code",
   "execution_count": 1,
   "id": "coastal-stream",
   "metadata": {},
   "outputs": [],
   "source": [
    "import pandas as pd\n",
    "import numpy as np\n",
    "from xgboost import XGBRegressor\n",
    "from sklearn.model_selection import GridSearchCV\n",
    "from sklearn.metrics import mean_squared_error, mean_absolute_error\n",
    "import matplotlib.pyplot as plt\n",
    "from sklearn.linear_model import Ridge"
   ]
  },
  {
   "cell_type": "code",
   "execution_count": 2,
   "id": "descending-apple",
   "metadata": {},
   "outputs": [],
   "source": [
    "TRAIN_TEST_SPLIT = 0.8"
   ]
  },
  {
   "cell_type": "code",
   "execution_count": 3,
   "id": "final-addiction",
   "metadata": {},
   "outputs": [],
   "source": [
    "data = pd.read_csv('../model_data.csv')"
   ]
  },
  {
   "cell_type": "code",
   "execution_count": 4,
   "id": "exclusive-brunei",
   "metadata": {},
   "outputs": [],
   "source": [
    "data.dropna(inplace=True)\n",
    "data.reset_index(drop=True, inplace=True)"
   ]
  },
  {
   "cell_type": "code",
   "execution_count": 5,
   "id": "complete-trinidad",
   "metadata": {},
   "outputs": [
    {
     "data": {
      "text/html": [
       "<div>\n",
       "<style scoped>\n",
       "    .dataframe tbody tr th:only-of-type {\n",
       "        vertical-align: middle;\n",
       "    }\n",
       "\n",
       "    .dataframe tbody tr th {\n",
       "        vertical-align: top;\n",
       "    }\n",
       "\n",
       "    .dataframe thead th {\n",
       "        text-align: right;\n",
       "    }\n",
       "</style>\n",
       "<table border=\"1\" class=\"dataframe\">\n",
       "  <thead>\n",
       "    <tr style=\"text-align: right;\">\n",
       "      <th></th>\n",
       "      <th>Unnamed: 0</th>\n",
       "      <th>temp_pi_t0</th>\n",
       "      <th>hum_pi_t0</th>\n",
       "      <th>PM1_pi_t0</th>\n",
       "      <th>PM2.5_pi_t0</th>\n",
       "      <th>PM10_pi_t0</th>\n",
       "      <th>wind_speed_t0</th>\n",
       "      <th>temp_pi_t1</th>\n",
       "      <th>hum_pi_t1</th>\n",
       "      <th>PM1_pi_t1</th>\n",
       "      <th>...</th>\n",
       "      <th>PM10_pi_t4</th>\n",
       "      <th>wind_speed_t4</th>\n",
       "      <th>temp_pi_t5</th>\n",
       "      <th>hum_pi_t5</th>\n",
       "      <th>PM1_pi_t5</th>\n",
       "      <th>PM2.5_pi_t5</th>\n",
       "      <th>PM10_pi_t5</th>\n",
       "      <th>wind_speed_t5</th>\n",
       "      <th>PM2.5</th>\n",
       "      <th>PM10</th>\n",
       "    </tr>\n",
       "  </thead>\n",
       "  <tbody>\n",
       "    <tr>\n",
       "      <th>0</th>\n",
       "      <td>0</td>\n",
       "      <td>17.625000</td>\n",
       "      <td>30.933333</td>\n",
       "      <td>4.365000</td>\n",
       "      <td>9.652500</td>\n",
       "      <td>15.223333</td>\n",
       "      <td>9.826088</td>\n",
       "      <td>19.983333</td>\n",
       "      <td>28.125000</td>\n",
       "      <td>4.610000</td>\n",
       "      <td>...</td>\n",
       "      <td>15.388333</td>\n",
       "      <td>6.924738</td>\n",
       "      <td>8.316667</td>\n",
       "      <td>53.283333</td>\n",
       "      <td>6.042500</td>\n",
       "      <td>11.798333</td>\n",
       "      <td>17.710000</td>\n",
       "      <td>5.116561</td>\n",
       "      <td>6.641000</td>\n",
       "      <td>9.477000</td>\n",
       "    </tr>\n",
       "    <tr>\n",
       "      <th>1</th>\n",
       "      <td>1</td>\n",
       "      <td>11.616667</td>\n",
       "      <td>40.350000</td>\n",
       "      <td>2.710000</td>\n",
       "      <td>6.040000</td>\n",
       "      <td>9.553333</td>\n",
       "      <td>7.754637</td>\n",
       "      <td>12.683333</td>\n",
       "      <td>37.733333</td>\n",
       "      <td>4.529167</td>\n",
       "      <td>...</td>\n",
       "      <td>15.750000</td>\n",
       "      <td>11.269782</td>\n",
       "      <td>18.650000</td>\n",
       "      <td>30.083333</td>\n",
       "      <td>3.752500</td>\n",
       "      <td>6.064167</td>\n",
       "      <td>8.284167</td>\n",
       "      <td>6.952755</td>\n",
       "      <td>7.147500</td>\n",
       "      <td>10.535000</td>\n",
       "    </tr>\n",
       "    <tr>\n",
       "      <th>2</th>\n",
       "      <td>2</td>\n",
       "      <td>8.466667</td>\n",
       "      <td>49.616667</td>\n",
       "      <td>4.839167</td>\n",
       "      <td>8.685833</td>\n",
       "      <td>12.543333</td>\n",
       "      <td>7.895416</td>\n",
       "      <td>9.416667</td>\n",
       "      <td>45.208333</td>\n",
       "      <td>3.826667</td>\n",
       "      <td>...</td>\n",
       "      <td>16.762500</td>\n",
       "      <td>8.496304</td>\n",
       "      <td>13.990000</td>\n",
       "      <td>35.770000</td>\n",
       "      <td>3.787000</td>\n",
       "      <td>6.641000</td>\n",
       "      <td>9.477000</td>\n",
       "      <td>8.209263</td>\n",
       "      <td>8.777500</td>\n",
       "      <td>13.442500</td>\n",
       "    </tr>\n",
       "    <tr>\n",
       "      <th>3</th>\n",
       "      <td>3</td>\n",
       "      <td>6.516667</td>\n",
       "      <td>61.908333</td>\n",
       "      <td>5.355000</td>\n",
       "      <td>9.979167</td>\n",
       "      <td>14.669167</td>\n",
       "      <td>5.692100</td>\n",
       "      <td>6.850000</td>\n",
       "      <td>57.158333</td>\n",
       "      <td>5.519167</td>\n",
       "      <td>...</td>\n",
       "      <td>12.093333</td>\n",
       "      <td>4.104631</td>\n",
       "      <td>10.425000</td>\n",
       "      <td>42.900000</td>\n",
       "      <td>3.815000</td>\n",
       "      <td>7.147500</td>\n",
       "      <td>10.535000</td>\n",
       "      <td>6.162207</td>\n",
       "      <td>7.956667</td>\n",
       "      <td>10.690833</td>\n",
       "    </tr>\n",
       "    <tr>\n",
       "      <th>4</th>\n",
       "      <td>4</td>\n",
       "      <td>4.981818</td>\n",
       "      <td>66.109091</td>\n",
       "      <td>6.809091</td>\n",
       "      <td>12.583636</td>\n",
       "      <td>18.430000</td>\n",
       "      <td>4.510787</td>\n",
       "      <td>5.358333</td>\n",
       "      <td>64.891667</td>\n",
       "      <td>6.549167</td>\n",
       "      <td>...</td>\n",
       "      <td>12.672500</td>\n",
       "      <td>6.151683</td>\n",
       "      <td>7.566667</td>\n",
       "      <td>53.983333</td>\n",
       "      <td>4.285000</td>\n",
       "      <td>8.777500</td>\n",
       "      <td>13.442500</td>\n",
       "      <td>6.849467</td>\n",
       "      <td>13.833333</td>\n",
       "      <td>20.941667</td>\n",
       "    </tr>\n",
       "    <tr>\n",
       "      <th>...</th>\n",
       "      <td>...</td>\n",
       "      <td>...</td>\n",
       "      <td>...</td>\n",
       "      <td>...</td>\n",
       "      <td>...</td>\n",
       "      <td>...</td>\n",
       "      <td>...</td>\n",
       "      <td>...</td>\n",
       "      <td>...</td>\n",
       "      <td>...</td>\n",
       "      <td>...</td>\n",
       "      <td>...</td>\n",
       "      <td>...</td>\n",
       "      <td>...</td>\n",
       "      <td>...</td>\n",
       "      <td>...</td>\n",
       "      <td>...</td>\n",
       "      <td>...</td>\n",
       "      <td>...</td>\n",
       "      <td>...</td>\n",
       "      <td>...</td>\n",
       "    </tr>\n",
       "    <tr>\n",
       "      <th>135</th>\n",
       "      <td>157</td>\n",
       "      <td>4.933333</td>\n",
       "      <td>76.922222</td>\n",
       "      <td>1.782222</td>\n",
       "      <td>4.942222</td>\n",
       "      <td>8.367778</td>\n",
       "      <td>15.137133</td>\n",
       "      <td>5.633333</td>\n",
       "      <td>77.383333</td>\n",
       "      <td>1.753333</td>\n",
       "      <td>...</td>\n",
       "      <td>4.628000</td>\n",
       "      <td>12.074766</td>\n",
       "      <td>10.709091</td>\n",
       "      <td>77.600000</td>\n",
       "      <td>1.838182</td>\n",
       "      <td>4.190909</td>\n",
       "      <td>6.679091</td>\n",
       "      <td>16.935310</td>\n",
       "      <td>3.560000</td>\n",
       "      <td>4.923000</td>\n",
       "    </tr>\n",
       "    <tr>\n",
       "      <th>136</th>\n",
       "      <td>158</td>\n",
       "      <td>4.816667</td>\n",
       "      <td>78.983333</td>\n",
       "      <td>2.143333</td>\n",
       "      <td>4.403333</td>\n",
       "      <td>6.750833</td>\n",
       "      <td>14.618837</td>\n",
       "      <td>4.827273</td>\n",
       "      <td>78.490909</td>\n",
       "      <td>1.823636</td>\n",
       "      <td>...</td>\n",
       "      <td>9.856667</td>\n",
       "      <td>18.171976</td>\n",
       "      <td>7.437500</td>\n",
       "      <td>73.687500</td>\n",
       "      <td>1.908750</td>\n",
       "      <td>5.385000</td>\n",
       "      <td>9.160000</td>\n",
       "      <td>21.995380</td>\n",
       "      <td>6.740000</td>\n",
       "      <td>10.450833</td>\n",
       "    </tr>\n",
       "    <tr>\n",
       "      <th>137</th>\n",
       "      <td>159</td>\n",
       "      <td>6.372727</td>\n",
       "      <td>72.300000</td>\n",
       "      <td>3.828182</td>\n",
       "      <td>8.692727</td>\n",
       "      <td>13.842727</td>\n",
       "      <td>13.684735</td>\n",
       "      <td>5.975000</td>\n",
       "      <td>75.625000</td>\n",
       "      <td>1.982500</td>\n",
       "      <td>...</td>\n",
       "      <td>6.464545</td>\n",
       "      <td>12.574260</td>\n",
       "      <td>4.630000</td>\n",
       "      <td>78.930000</td>\n",
       "      <td>2.154000</td>\n",
       "      <td>3.560000</td>\n",
       "      <td>4.923000</td>\n",
       "      <td>8.534353</td>\n",
       "      <td>9.065833</td>\n",
       "      <td>13.411667</td>\n",
       "    </tr>\n",
       "    <tr>\n",
       "      <th>138</th>\n",
       "      <td>160</td>\n",
       "      <td>0.000000</td>\n",
       "      <td>0.000000</td>\n",
       "      <td>0.000000</td>\n",
       "      <td>0.000000</td>\n",
       "      <td>0.000000</td>\n",
       "      <td>0.000000</td>\n",
       "      <td>0.000000</td>\n",
       "      <td>0.000000</td>\n",
       "      <td>0.000000</td>\n",
       "      <td>...</td>\n",
       "      <td>0.000000</td>\n",
       "      <td>0.000000</td>\n",
       "      <td>0.000000</td>\n",
       "      <td>0.000000</td>\n",
       "      <td>0.000000</td>\n",
       "      <td>0.000000</td>\n",
       "      <td>0.000000</td>\n",
       "      <td>0.000000</td>\n",
       "      <td>0.000000</td>\n",
       "      <td>0.000000</td>\n",
       "    </tr>\n",
       "    <tr>\n",
       "      <th>139</th>\n",
       "      <td>161</td>\n",
       "      <td>0.000000</td>\n",
       "      <td>0.000000</td>\n",
       "      <td>0.000000</td>\n",
       "      <td>0.000000</td>\n",
       "      <td>0.000000</td>\n",
       "      <td>0.000000</td>\n",
       "      <td>0.000000</td>\n",
       "      <td>0.000000</td>\n",
       "      <td>0.000000</td>\n",
       "      <td>...</td>\n",
       "      <td>0.000000</td>\n",
       "      <td>0.000000</td>\n",
       "      <td>0.000000</td>\n",
       "      <td>0.000000</td>\n",
       "      <td>0.000000</td>\n",
       "      <td>0.000000</td>\n",
       "      <td>0.000000</td>\n",
       "      <td>0.000000</td>\n",
       "      <td>0.000000</td>\n",
       "      <td>0.000000</td>\n",
       "    </tr>\n",
       "  </tbody>\n",
       "</table>\n",
       "<p>140 rows × 39 columns</p>\n",
       "</div>"
      ],
      "text/plain": [
       "     Unnamed: 0  temp_pi_t0  hum_pi_t0  PM1_pi_t0  PM2.5_pi_t0  PM10_pi_t0  \\\n",
       "0             0   17.625000  30.933333   4.365000     9.652500   15.223333   \n",
       "1             1   11.616667  40.350000   2.710000     6.040000    9.553333   \n",
       "2             2    8.466667  49.616667   4.839167     8.685833   12.543333   \n",
       "3             3    6.516667  61.908333   5.355000     9.979167   14.669167   \n",
       "4             4    4.981818  66.109091   6.809091    12.583636   18.430000   \n",
       "..          ...         ...        ...        ...          ...         ...   \n",
       "135         157    4.933333  76.922222   1.782222     4.942222    8.367778   \n",
       "136         158    4.816667  78.983333   2.143333     4.403333    6.750833   \n",
       "137         159    6.372727  72.300000   3.828182     8.692727   13.842727   \n",
       "138         160    0.000000   0.000000   0.000000     0.000000    0.000000   \n",
       "139         161    0.000000   0.000000   0.000000     0.000000    0.000000   \n",
       "\n",
       "     wind_speed_t0  temp_pi_t1  hum_pi_t1  PM1_pi_t1  ...  PM10_pi_t4  \\\n",
       "0         9.826088   19.983333  28.125000   4.610000  ...   15.388333   \n",
       "1         7.754637   12.683333  37.733333   4.529167  ...   15.750000   \n",
       "2         7.895416    9.416667  45.208333   3.826667  ...   16.762500   \n",
       "3         5.692100    6.850000  57.158333   5.519167  ...   12.093333   \n",
       "4         4.510787    5.358333  64.891667   6.549167  ...   12.672500   \n",
       "..             ...         ...        ...        ...  ...         ...   \n",
       "135      15.137133    5.633333  77.383333   1.753333  ...    4.628000   \n",
       "136      14.618837    4.827273  78.490909   1.823636  ...    9.856667   \n",
       "137      13.684735    5.975000  75.625000   1.982500  ...    6.464545   \n",
       "138       0.000000    0.000000   0.000000   0.000000  ...    0.000000   \n",
       "139       0.000000    0.000000   0.000000   0.000000  ...    0.000000   \n",
       "\n",
       "     wind_speed_t4  temp_pi_t5  hum_pi_t5  PM1_pi_t5  PM2.5_pi_t5  PM10_pi_t5  \\\n",
       "0         6.924738    8.316667  53.283333   6.042500    11.798333   17.710000   \n",
       "1        11.269782   18.650000  30.083333   3.752500     6.064167    8.284167   \n",
       "2         8.496304   13.990000  35.770000   3.787000     6.641000    9.477000   \n",
       "3         4.104631   10.425000  42.900000   3.815000     7.147500   10.535000   \n",
       "4         6.151683    7.566667  53.983333   4.285000     8.777500   13.442500   \n",
       "..             ...         ...        ...        ...          ...         ...   \n",
       "135      12.074766   10.709091  77.600000   1.838182     4.190909    6.679091   \n",
       "136      18.171976    7.437500  73.687500   1.908750     5.385000    9.160000   \n",
       "137      12.574260    4.630000  78.930000   2.154000     3.560000    4.923000   \n",
       "138       0.000000    0.000000   0.000000   0.000000     0.000000    0.000000   \n",
       "139       0.000000    0.000000   0.000000   0.000000     0.000000    0.000000   \n",
       "\n",
       "     wind_speed_t5      PM2.5       PM10  \n",
       "0         5.116561   6.641000   9.477000  \n",
       "1         6.952755   7.147500  10.535000  \n",
       "2         8.209263   8.777500  13.442500  \n",
       "3         6.162207   7.956667  10.690833  \n",
       "4         6.849467  13.833333  20.941667  \n",
       "..             ...        ...        ...  \n",
       "135      16.935310   3.560000   4.923000  \n",
       "136      21.995380   6.740000  10.450833  \n",
       "137       8.534353   9.065833  13.411667  \n",
       "138       0.000000   0.000000   0.000000  \n",
       "139       0.000000   0.000000   0.000000  \n",
       "\n",
       "[140 rows x 39 columns]"
      ]
     },
     "execution_count": 5,
     "metadata": {},
     "output_type": "execute_result"
    }
   ],
   "source": [
    "data"
   ]
  },
  {
   "cell_type": "code",
   "execution_count": 6,
   "id": "rocky-infrared",
   "metadata": {},
   "outputs": [],
   "source": [
    "labels = ['PM2.5', 'PM10']"
   ]
  },
  {
   "cell_type": "code",
   "execution_count": 7,
   "id": "executed-petite",
   "metadata": {},
   "outputs": [],
   "source": [
    "X = data.drop(labels, axis=1)\n",
    "y1 = data[labels[0]]\n",
    "y2 = data[labels[1]]"
   ]
  },
  {
   "cell_type": "code",
   "execution_count": 8,
   "id": "mental-judgment",
   "metadata": {},
   "outputs": [],
   "source": [
    "parameters = {'learning_rate':[0.01, 0.1, 1], \n",
    "              'n_estimators':[100, 500, 1000], \n",
    "              'max_depth':[2, 3, 4], \n",
    "              'colsample_bytree':[0.1, 0.5, 1]}"
   ]
  },
  {
   "cell_type": "code",
   "execution_count": 9,
   "id": "worthy-ireland",
   "metadata": {},
   "outputs": [],
   "source": [
    "xgb = XGBRegressor()"
   ]
  },
  {
   "cell_type": "code",
   "execution_count": 10,
   "id": "adjustable-selection",
   "metadata": {},
   "outputs": [],
   "source": [
    "search1 = GridSearchCV(xgb, parameters)\n",
    "search2 = GridSearchCV(xgb, parameters)"
   ]
  },
  {
   "cell_type": "code",
   "execution_count": 11,
   "id": "middle-mention",
   "metadata": {},
   "outputs": [
    {
     "data": {
      "text/plain": [
       "GridSearchCV(estimator=XGBRegressor(base_score=None, booster=None,\n",
       "                                    colsample_bylevel=None,\n",
       "                                    colsample_bynode=None,\n",
       "                                    colsample_bytree=None, gamma=None,\n",
       "                                    gpu_id=None, importance_type='gain',\n",
       "                                    interaction_constraints=None,\n",
       "                                    learning_rate=None, max_delta_step=None,\n",
       "                                    max_depth=None, min_child_weight=None,\n",
       "                                    missing=nan, monotone_constraints=None,\n",
       "                                    n_estimators=100, n_jobs=None,\n",
       "                                    num_parallel_tree=None, random_state=None,\n",
       "                                    reg_alpha=None, reg_lambda=None,\n",
       "                                    scale_pos_weight=None, subsample=None,\n",
       "                                    tree_method=None, validate_parameters=None,\n",
       "                                    verbosity=None),\n",
       "             param_grid={'colsample_bytree': [0.1, 0.5, 1],\n",
       "                         'learning_rate': [0.01, 0.1, 1],\n",
       "                         'max_depth': [2, 3, 4],\n",
       "                         'n_estimators': [100, 500, 1000]})"
      ]
     },
     "execution_count": 11,
     "metadata": {},
     "output_type": "execute_result"
    }
   ],
   "source": [
    "search1.fit(X, y1)"
   ]
  },
  {
   "cell_type": "code",
   "execution_count": 12,
   "id": "geological-convenience",
   "metadata": {},
   "outputs": [
    {
     "data": {
      "text/plain": [
       "GridSearchCV(estimator=XGBRegressor(base_score=None, booster=None,\n",
       "                                    colsample_bylevel=None,\n",
       "                                    colsample_bynode=None,\n",
       "                                    colsample_bytree=None, gamma=None,\n",
       "                                    gpu_id=None, importance_type='gain',\n",
       "                                    interaction_constraints=None,\n",
       "                                    learning_rate=None, max_delta_step=None,\n",
       "                                    max_depth=None, min_child_weight=None,\n",
       "                                    missing=nan, monotone_constraints=None,\n",
       "                                    n_estimators=100, n_jobs=None,\n",
       "                                    num_parallel_tree=None, random_state=None,\n",
       "                                    reg_alpha=None, reg_lambda=None,\n",
       "                                    scale_pos_weight=None, subsample=None,\n",
       "                                    tree_method=None, validate_parameters=None,\n",
       "                                    verbosity=None),\n",
       "             param_grid={'colsample_bytree': [0.1, 0.5, 1],\n",
       "                         'learning_rate': [0.01, 0.1, 1],\n",
       "                         'max_depth': [2, 3, 4],\n",
       "                         'n_estimators': [100, 500, 1000]})"
      ]
     },
     "execution_count": 12,
     "metadata": {},
     "output_type": "execute_result"
    }
   ],
   "source": [
    "search2.fit(X, y2)"
   ]
  },
  {
   "cell_type": "code",
   "execution_count": 13,
   "id": "following-brisbane",
   "metadata": {},
   "outputs": [],
   "source": [
    "params1 = search1.best_params_\n",
    "params2 = search2.best_params_"
   ]
  },
  {
   "cell_type": "code",
   "execution_count": 14,
   "id": "baking-bridal",
   "metadata": {},
   "outputs": [],
   "source": [
    "n = int(TRAIN_TEST_SPLIT*data.shape[0])\n",
    "\n",
    "X_train = data.iloc[:n,:]\n",
    "X_test = data.iloc[n:,:]\n",
    "\n",
    "y_train1 = X_train[labels[0]]\n",
    "y_train2 = X_train[labels[1]]\n",
    "\n",
    "y_true1 = X_test[labels[0]]\n",
    "y_true2 = X_test[labels[1]]\n",
    "\n",
    "X_train = X_train.drop(labels, axis=1)\n",
    "X_test = X_test.drop(labels, axis=1)"
   ]
  },
  {
   "cell_type": "code",
   "execution_count": 15,
   "id": "future-xerox",
   "metadata": {},
   "outputs": [
    {
     "name": "stdout",
     "output_type": "stream",
     "text": [
      "MSE: 4.790324536189717\n",
      "MAE: 1.6651822635009346\n"
     ]
    }
   ],
   "source": [
    "model1 = XGBRegressor(**params1)\n",
    "model1.fit(X_train.values, y_train1.values)\n",
    "y_pred1 = model1.predict(X_test.values)\n",
    "mse1 = mean_squared_error(y_true1, y_pred1)\n",
    "mae1 = mean_absolute_error(y_true1, y_pred1)\n",
    "print(\"MSE: {}\".format(mse1))\n",
    "print(\"MAE: {}\".format(mae1))"
   ]
  },
  {
   "cell_type": "code",
   "execution_count": 16,
   "id": "simplified-stick",
   "metadata": {},
   "outputs": [
    {
     "name": "stdout",
     "output_type": "stream",
     "text": [
      "MSE: 11.368304623447717\n",
      "MAE: 4.588792072385593\n"
     ]
    }
   ],
   "source": [
    "model2 = XGBRegressor(**params2)\n",
    "model2.fit(X_train.values, y_train2.values)\n",
    "y_pred2 = model2.predict(X_test.values)\n",
    "mse2 = mean_squared_error(y_true2, y_pred2)\n",
    "mae2 = mean_absolute_error(y_true1, y_pred2)\n",
    "print(\"MSE: {}\".format(mse2))\n",
    "print(\"MAE: {}\".format(mae2))"
   ]
  },
  {
   "cell_type": "code",
   "execution_count": 17,
   "id": "elementary-print",
   "metadata": {},
   "outputs": [
    {
     "data": {
      "image/png": "[encoded data removed]",
      "text/plain": [
       "<Figure size 432x288 with 1 Axes>"
      ]
     },
     "metadata": {
      "needs_background": "light"
     },
     "output_type": "display_data"
    }
   ],
   "source": [
    "plt.plot(np.arange(len(y_true1)), y_true1)\n",
    "plt.plot(np.arange(len(y_pred1)), y_pred1)\n",
    "plt.show()"
   ]
  },
  {
   "cell_type": "code",
   "execution_count": 18,
   "id": "accurate-pickup",
   "metadata": {
    "scrolled": true
   },
   "outputs": [
    {
     "data": {
      "image/png": "[encoded data removed]",
      "text/plain": [
       "<Figure size 432x288 with 1 Axes>"
      ]
     },
     "metadata": {
      "needs_background": "light"
     },
     "output_type": "display_data"
    }
   ],
   "source": [
    "plt.plot(np.arange(len(y_true2)), y_true2)\n",
    "plt.plot(np.arange(len(y_pred2)), y_pred2)\n",
    "plt.show()"
   ]
  },
  {
   "cell_type": "code",
   "execution_count": 19,
   "id": "technical-balance",
   "metadata": {},
   "outputs": [
    {
     "name": "stdout",
     "output_type": "stream",
     "text": [
      "MSE: 3.08798935784066\n",
      "MAE: 1.3625139360393264\n"
     ]
    }
   ],
   "source": [
    "#Comparison with simple Ridge model\n",
    "ridge = Ridge(alpha=2e-05)\n",
    "ridge.fit(X_train.values, y_train1.values)\n",
    "preds = ridge.predict(X_test.values)\n",
    "mse = mean_squared_error(y_true1, preds)\n",
    "mae = mean_absolute_error(y_true1, preds)\n",
    "print(\"MSE: {}\".format(mse))\n",
    "print(\"MAE: {}\".format(mae))"
   ]
  },
  {
   "cell_type": "code",
   "execution_count": 20,
   "id": "interim-fantasy",
   "metadata": {},
   "outputs": [
    {
     "data": {
      "image/png": "[encoded data removed]",
      "text/plain": [
       "<Figure size 432x288 with 1 Axes>"
      ]
     },
     "metadata": {
      "needs_background": "light"
     },
     "output_type": "display_data"
    }
   ],
   "source": [
    "plt.plot(np.arange(len(y_true1)), y_true1)\n",
    "plt.plot(np.arange(len(y_pred1)), y_pred1)\n",
    "plt.plot(np.arange(len(preds)), preds)\n",
    "plt.title(\"Ridge vs XGBoost\")\n",
    "plt.legend(['True', 'XGBoost', 'Ridge'])\n",
    "plt.show()"
   ]
  },
  {
   "cell_type": "code",
   "execution_count": null,
   "id": "early-elizabeth",
   "metadata": {},
   "outputs": [],
   "source": []
  }
 ],
 "metadata": {
  "kernelspec": {
   "display_name": "Python 3",
   "language": "python",
   "name": "python3"
  },
  "language_info": {
   "codemirror_mode": {
    "name": "ipython",
    "version": 3
   },
   "file_extension": ".py",
   "mimetype": "text/x-python",
   "name": "python",
   "nbconvert_exporter": "python",
   "pygments_lexer": "ipython3",
   "version": "3.8.5"
  }
 },
 "nbformat": 4,
 "nbformat_minor": 5
}
